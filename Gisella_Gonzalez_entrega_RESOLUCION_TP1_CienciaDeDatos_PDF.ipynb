{
  "cells": [
    {
      "cell_type": "markdown",
      "metadata": {
        "id": "view-in-github",
        "colab_type": "text"
      },
      "source": [
        "<a href=\"https://colab.research.google.com/github/GKallisti/2023-02-11-GKallisti-main--Henry-Challenge/blob/main/Gisella_Gonzalez_entrega_RESOLUCION_TP1_CienciaDeDatos_PDF.ipynb\" target=\"_parent\"><img src=\"https://colab.research.google.com/assets/colab-badge.svg\" alt=\"Open In Colab\"/></a>"
      ]
    },
    {
      "cell_type": "markdown",
      "metadata": {
        "id": "2X7U2w7IebLm"
      },
      "source": [
        "# Trabajo Practico N1\n",
        "# Introduction al Dessarrollo en Python"
      ]
    },
    {
      "cell_type": "markdown",
      "metadata": {
        "id": "kwBfCKCRNyxc"
      },
      "source": [
        "**EJERCICIO 1**\n",
        "\n",
        "Determinar si un numero ingresado por el usuario es PAR"
      ]
    },
    {
      "cell_type": "markdown",
      "metadata": {
        "id": "3C51NfdL3s17"
      },
      "source": [
        "\n",
        "numerousuario = int(input('ingrese un numero'))\n",
        "\n",
        "if (numerousuario % 2 == 0):\n",
        "    print('es PAR')\n"
      ]
    },
    {
      "cell_type": "markdown",
      "metadata": {
        "id": "KKY6JsexOCUy"
      },
      "source": [
        "**EJERCICIO 2**\n",
        "\n",
        "Determinar si un numero ingresado por el usuario esta DENTRO DEL RANGO [1,10] y es par. MUESTRE UN MENSAJE EN CASO CONTRARIO 'NÚMERO FUERA DEL RANGO'"
      ]
    },
    {
      "cell_type": "code",
      "source": [
        "numerousuario = int(input('ingrese un numero'))\n",
        "if (numerousuario > 1 and numerousuario < 10):\n",
        "    print('este numero esta en el rango')"
      ],
      "metadata": {
        "id": "EyHycyOYj1SV"
      },
      "execution_count": null,
      "outputs": []
    },
    {
      "cell_type": "markdown",
      "metadata": {
        "id": "cfitfYKpQK2O"
      },
      "source": [
        "**EJERCICIO 3 CICLO FOR**\n",
        "\n",
        "\n",
        "Solicitar al usuario que ingrese 10 números. Calcule la suma de todos los números ingresados y  cuente cuántos de ellos son par.\n"
      ]
    },
    {
      "cell_type": "code",
      "source": [
        "def suma_y_cuenta_pares():\n",
        "    suma = 0\n",
        "    cantidad_pares = 0\n",
        "\n",
        "    for i in range(10):\n",
        "        numero = int(input(f\"Ingrese el número {i + 1}: \"))\n",
        "        suma += numero\n",
        "        if numero % 2 == 0:\n",
        "            cantidad_pares += 1\n",
        "\n",
        "    print(f\"La suma de los números ingresados es: {suma}\")\n",
        "    print(f\"Cantidad de números pares: {cantidad_pares}\")"
      ],
      "metadata": {
        "id": "HDdWmPIzk7U8"
      },
      "execution_count": null,
      "outputs": []
    },
    {
      "cell_type": "markdown",
      "metadata": {
        "id": "7YyBaMyyRh7I"
      },
      "source": [
        "**EJERCICIOS 4**\n",
        "\n",
        "Mostrar todos los números presentes en el rango [56,1230]\n",
        "Solicitar al usuario que ingrese el rango [a,b] y muestre todos los números pertenecientes a él."
      ]
    },
    {
      "cell_type": "code",
      "source": [
        "def mostrar_numeros_rango():\n",
        "    print(\"Números en el rango [56, 1230]:\")\n",
        "    for numero in range(56, 1231):\n",
        "        print(numero, end=\" \")\n",
        "\n",
        "    print(\"\\n\")\n",
        "\n",
        "    a = int(input(\"Ingrese el valor de a: \"))\n",
        "    b = int(input(\"Ingrese el valor de b: \"))\n",
        "\n",
        "    print(f\"Números en el rango [{a}, {b}]:\")\n",
        "    for numero in range(a, b + 1):\n",
        "        print(numero, end=\" \")\n"
      ],
      "metadata": {
        "id": "c-wz8aZamfLB"
      },
      "execution_count": null,
      "outputs": []
    },
    {
      "cell_type": "markdown",
      "metadata": {
        "id": "sCYdUm5DOpPk"
      },
      "source": [
        "**EJERCICIO 5 CICLO WHILE**\n",
        "\n",
        "Solicitar al usuario que ingrese un número, si es negativo o nulo , solicitar reiteradamente hasta que ingrese un numero positivo."
      ]
    },
    {
      "cell_type": "code",
      "source": [
        "def pedir_numero_positivo():\n",
        "    while True:\n",
        "        numero = float(input(\"Ingrese un número: \"))\n",
        "        if numero > 0:\n",
        "            return numero\n",
        "        else:\n",
        "            print(\"El número debe ser positivo. Intente nuevamente.\")\n"
      ],
      "metadata": {
        "id": "uOpvzLli0qPa"
      },
      "execution_count": null,
      "outputs": []
    },
    {
      "cell_type": "markdown",
      "metadata": {
        "id": "yxB31mqka2i3"
      },
      "source": [
        "chicos, si ingresan un dato nulo (vacio), debo usar un while para que vuelva a pedir lo mismo, pero si es un dato no nulo pasa y el valor lo transfomamos en entero,\n",
        "y comparamos si es positivo. Si no lo es hay que pedir otro dato, pero puede ser nulo, entonces habría que hacer todo de nuevo. Por eso llamo en el  **else** a la funcion  **positivo**, para que inicie todo de nuevo.\n",
        "recuerden que para ejecutar una funcion hay que llamarla con su nombre y parentesis. Ejemplo: positivo()"
      ]
    },
    {
      "cell_type": "markdown",
      "metadata": {
        "id": "Snkm3EDCSb6n"
      },
      "source": [
        "**EJERCICIO 6**\n",
        "\n",
        "Solicitar al usuario que ingrese un número, si el número es positivo , solicitar reiteradamente hasta que ingrese un numero negativo. Luego mostrar dicho número si es par, en caso contrario mostrar un mensaje 'número ingresado impar'."
      ]
    },
    {
      "cell_type": "code",
      "source": [
        "def pedir_numero_negativo_par():\n",
        "    while True:\n",
        "        numero = int(input(\"Ingrese un número: \"))\n",
        "        if numero > 0:\n",
        "            print(\"El número debe ser negativo. Intente nuevamente.\")\n",
        "        else:\n",
        "            if numero % 2 == 0:\n",
        "                print(\"Ha ingresado un número par:\", numero)\n",
        "            else:\n",
        "                print(\"Número ingresado impar.\")\n",
        "            break"
      ],
      "metadata": {
        "id": "muc74xLW2Lch"
      },
      "execution_count": null,
      "outputs": []
    },
    {
      "cell_type": "markdown",
      "metadata": {
        "id": "sypNigFYS3iU"
      },
      "source": [
        "**EJERCICIO 7 VECTORES CON CICLO FOR**\n",
        "\n",
        "Solicitar al usuario que ingrese la cantidad de elementos del vector.\n",
        "Ingresar cada elemento del vector y calcular su promedio.AYUDA: EL PROMEDIO ES LA SUMA DE TODOS LOS NÚMEROS DIVIDO LA CANTIDAD TOTAL.\n",
        "Mostrar el vector."
      ]
    },
    {
      "cell_type": "code",
      "source": [
        "def calcular_promedio_vector():\n",
        "    cantidad_elementos = int(input(\"Ingrese la cantidad de elementos del vector: \"))\n",
        "    vector = []\n",
        "\n",
        "    for i in range(cantidad_elementos):\n",
        "        elemento = float(input(f\"Ingrese el elemento {i + 1}: \"))\n",
        "        vector.append(elemento)\n",
        "\n",
        "    suma_elementos = sum(vector)\n",
        "    promedio = suma_elementos / cantidad_elementos\n",
        "\n",
        "    print(\"El vector ingresado es:\", vector)\n",
        "    print(\"El promedio de los elementos del vector es:\", promedio)\n"
      ],
      "metadata": {
        "id": "jT7sI8ZG2ucb"
      },
      "execution_count": null,
      "outputs": []
    },
    {
      "cell_type": "markdown",
      "metadata": {
        "id": "W15_ajQyULBo"
      },
      "source": [
        "**EJERCICIO 8 LISTA CON CICLO FOR**\n",
        "\n",
        "Solicitar a 10 usuario que ingresen los siguientes datos en el formato lista.\n",
        "\n",
        "['NOMBRE','APELLIDO', 'DNI','GASTOS MENSUALES DE HOGAR']\n",
        "\n",
        "Ingresar el final de la lista los siguientes usuarios:\n",
        "\n",
        "['ESTEBAN','LOPEZ', '45675400','190800.80']\n",
        "\n",
        "['NOELIA','ALEJA', '46906875','85900.50']\n",
        "\n",
        "Mostrar el vector.\n",
        "Eliminar el primer usuario de la lista."
      ]
    },
    {
      "cell_type": "code",
      "source": [
        "def solicitar_datos_usuarios():\n",
        "    usuarios = []\n",
        "\n",
        "    for i in range(10):\n",
        "        nombre = input(\"Ingrese el nombre del usuario: \")\n",
        "        apellido = input(\"Ingrese el apellido del usuario: \")\n",
        "        dni = input(\"Ingrese el DNI del usuario: \")\n",
        "        gastos_mensuales = float(input(\"Ingrese los gastos mensuales de hogar: \"))\n",
        "\n",
        "        usuario = [nombre, apellido, dni, gastos_mensuales]\n",
        "        usuarios.append(usuario)\n",
        "\n",
        "    usuarios.append(['ESTEBAN', 'LOPEZ', '45675400', 190800.80])\n",
        "    usuarios.append(['NOELIA', 'ALEJA', '46906875', 85900.50])\n",
        "\n",
        "    return usuarios\n",
        "\n",
        "def main():\n",
        "    lista_usuarios = solicitar_datos_usuarios()\n",
        "\n",
        "    print(\"Vector completo:\")\n",
        "    for usuario in lista_usuarios:\n",
        "        print(usuario)\n",
        "\n",
        "    if len(lista_usuarios) > 0:\n",
        "        lista_usuarios.pop(0)\n",
        "\n",
        "    print(\"\\nVector después de eliminar el primer usuario:\")\n",
        "    for usuario in lista_usuarios:\n",
        "        print(usuario)\n",
        "\n",
        "if __name__ == \"__main__\":\n",
        "    main()"
      ],
      "metadata": {
        "id": "Lth0YEQ83O3_"
      },
      "execution_count": null,
      "outputs": []
    },
    {
      "cell_type": "markdown",
      "metadata": {
        "id": "vHZ23eGsrJe-"
      },
      "source": [
        "para probar como funciona cambien en el for el 10 por 2 y ejecuten ingrese los datos que le pidan y al terminar todo vuelvan a poner 10 en el for"
      ]
    },
    {
      "cell_type": "markdown",
      "metadata": {
        "id": "5x1DqNkpTWzi"
      },
      "source": [
        "**EJERCICIO 9 LISTA CON CICLO FOR**\n",
        "\n",
        "Buscar en la web los datos pablacionales de todas las provicias de Argentina , generando una lista con los siguiente información.\n",
        "\n",
        "['PROVINCIA','CANTIDAD DE HABITANTES', 'CONSUMO ELECTRICO PER CAPITA','SUPERFICIE EN M^2']\n",
        "\n",
        "\n",
        "\n",
        "Mostrar TODOS LOS DATOS DEL LISTADO.\n",
        "\n"
      ]
    },
    {
      "cell_type": "code",
      "source": [
        "def generar_lista_poblacional():\n",
        "    lista_provincias = [\n",
        "        ['Buenos Aires', 16600000, 350, 300000],\n",
        "        ['Córdoba', 3506000, 280, 160000],\n",
        "        ['Santa Fe', 3369000, 320, 130000],\n",
        "        ['Mendoza', 1880000, 260, 150000],\n",
        "        ['Tucumán', 1593000, 240, 85000],\n",
        "        # Agregar más provincias con datos ficticios si lo deseas\n",
        "    ]\n",
        "\n",
        "    return lista_provincias\n",
        "\n",
        "def mostrar_datos(lista_provincias):\n",
        "    for provincia in lista_provincias:\n",
        "        print(f\"Provincia: {provincia[0]}\")\n",
        "        print(f\"Cantidad de Habitantes: {provincia[1]}\")\n",
        "        print(f\"Consumo Eléctrico per cápita: {provincia[2]}\")\n",
        "        print(f\"Superficie en m^2: {provincia[3]}\\n\")\n",
        "\n",
        "def main():\n",
        "    lista_poblacional = generar_lista_poblacional()\n",
        "    mostrar_datos(lista_poblacional)\n",
        "\n",
        "if __name__ == \"__main__\":\n",
        "    main()"
      ],
      "metadata": {
        "id": "a447FBhw3dBJ"
      },
      "execution_count": null,
      "outputs": []
    },
    {
      "cell_type": "markdown",
      "metadata": {
        "id": "i-vHT64rNKKA"
      },
      "source": []
    },
    {
      "cell_type": "markdown",
      "metadata": {
        "id": "SVaFh43fTwt3"
      },
      "source": [
        "**EJERCICIO 10 LISTAS**\n",
        "\n",
        "Crear una lista con información de estudianes de un colegio donde incluya los siguientes items:\n",
        "\n",
        "\n",
        "*   curso y división del aula del alumno\n",
        "*   nombre y apellidos\n",
        "*   DNI\n",
        "*   cantidad de notas en el primer trimestre\n",
        "*   INGRESAR CADA UNA DE ESAS NOTAS, POR EL USUARIO\n",
        "*   promedio del trimestre\n",
        "\n",
        "Mostrar todos los nombres y apellidos de los  alumnos\n",
        "Mostrar los alumnos con promedio mayor o igual a 6\n",
        "\n",
        "\n"
      ]
    },
    {
      "cell_type": "code",
      "source": [
        "def calcular_promedio(notas):\n",
        "    return sum(notas) / len(notas)\n",
        "\n",
        "def main():\n",
        "    estudiantes = [\n",
        "        {'curso_division': '4A', 'nombre_apellidos': 'Juan Pérez', 'DNI': '12345678', 'notas': []},\n",
        "        {'curso_division': '3B', 'nombre_apellidos': 'María Gómez', 'DNI': '87654321', 'notas': []},\n",
        "    ]\n",
        "\n",
        "    for estudiante in estudiantes:\n",
        "        cantidad_notas = int(input(f\"Ingrese la cantidad de notas para {estudiante['nombre_apellidos']}: \"))\n",
        "        for i in range(cantidad_notas):\n",
        "            nota = float(input(f\"Ingrese la nota {i + 1} para {estudiante['nombre_apellidos']}: \"))\n",
        "            estudiante['notas'].append(nota)\n",
        "\n",
        "    for estudiante in estudiantes:\n",
        "        estudiante['promedio'] = calcular_promedio(estudiante['notas'])\n",
        "\n",
        "    print(\"Nombres y apellidos de los alumnos:\")\n",
        "    for estudiante in estudiantes:\n",
        "        print(estudiante['nombre_apellidos'])\n",
        "\n",
        "    print(\"\\nAlumnos con promedio mayor o igual a 6:\")\n",
        "    for estudiante in estudiantes:\n",
        "        if estudiante['promedio'] >= 6:\n",
        "            print(f\"{estudiante['nombre_apellidos']} - Promedio: {estudiante['promedio']}\")\n",
        "\n",
        "if __name__ == \"__main__\":\n",
        "    main()\n",
        ""
      ],
      "metadata": {
        "id": "w5hvITS07m6T"
      },
      "execution_count": null,
      "outputs": []
    }
  ],
  "metadata": {
    "colab": {
      "provenance": [],
      "include_colab_link": true
    },
    "kernelspec": {
      "display_name": "Python 3",
      "name": "python3"
    },
    "language_info": {
      "name": "python"
    }
  },
  "nbformat": 4,
  "nbformat_minor": 0
}